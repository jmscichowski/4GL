{
 "cells": [
  {
   "cell_type": "code",
   "execution_count": 4,
   "metadata": {},
   "outputs": [],
   "source": [
    "import random\n",
    "\n",
    "#Mapping integer codes, declaring list of strings and assigning them to a main class named \"Cards\"\n",
    "\n",
    "class Card:\n",
    "    def __init__(self, suit=0, rank=0):\n",
    "        self.suit = suit \n",
    "        self.rank = rank\n",
    "        \n",
    "#Assigning values\n",
    "Jack = 10\n",
    "Queen = 10\n",
    "King = 10\n",
    "ACE = 11   # need initial a definition in formula \"1 or 11\"\n",
    "\n",
    "suits = ['heart', 'diamonds', 'spades', 'clubs']\n",
    "ranks = [\"dummy\", ACE, 2, 3, 4, 5, 6, 7, 8, 9, 10, Jack, Queen, King]\n",
    "\n",
    "# We want to establish category of ranks from 1 to 14 to get the exact number 13 of them\n",
    "\n",
    "firstcard = ranks[random.randrange(1,14)]\n",
    "seccard = ranks[random.randrange(1,14)]\n",
    "sum = firstcard + seccard\n",
    " \n",
    "# ACE definition\n",
    "sum = sum - 10\n",
    "ACE = 1 #Now aces are also valued as \"1\""
   ]
  },
  {
   "cell_type": "code",
   "execution_count": 6,
   "metadata": {},
   "outputs": [
    {
     "name": "stdout",
     "output_type": "stream",
     "text": [
      "Card one: 5 \t Card two: 8 \t Sum: 3\n"
     ]
    }
   ],
   "source": [
    "# Let's check it - looks OK \n",
    "\n",
    "print (\"Card one:\", firstcard, \"\\t\", \"Card two:\", seccard, \"\\t\",\n",
    "\"Sum:\", sum)\n",
    "crd = [\"three:\", \"four:\", \"five:\"]\n"
   ]
  },
  {
   "cell_type": "code",
   "execution_count": 16,
   "metadata": {},
   "outputs": [],
   "source": [
    "    def __init__(self, suit=0, rank=0):\n",
    "        self.suit = suit\n",
    "        self.rank = rank\n",
    "\n",
    "    def __str__(self):\n",
    "        return '{0} of {1}'.format(Card.RANKS[self.rank],\n",
    "                                   Card.SUITS[self.suit])\n",
    "\n",
    "def __str__(self):\n",
    "\n",
    "        return '%s of %s' % (Card.rank_names[self.rank],\n",
    "                             Card.suit_names[self.suit])\n",
    "\n",
    "    \n",
    "# Comparing one card to another. First by suit, then by rank.\n",
    "def __cmp__(self, other):\n",
    "\n",
    "#Returns a positive number if this > other, negative if other > this and 0 if they are equivalent\n",
    "  \n",
    "        t1 = self.suit, self.rank\n",
    "        t2 = other.suit, other.rank\n",
    "        return cmp(t1, t2)"
   ]
  },
  {
   "cell_type": "code",
   "execution_count": 12,
   "metadata": {},
   "outputs": [],
   "source": [
    "#cmp() method compares two integers and returns -1, 0, 1 according to comparison. So there is no need to include conditional \n",
    "#operators in order not to exceed value of 21. It's enough just to ensure that a card minor by a range (value) can't be assigned out of that range\n",
    "\n",
    "\n",
    "def __cmp__(self, other):\n",
    "    # check the suits\n",
    "    if self.suit > other.suit: return 1\n",
    "    if self.suit < other.suit: return -1\n",
    "    # suits are the same... check ranks\n",
    "    if self.rank > other.rank: return 1\n",
    "    if self.rank < other.rank: return -1\n",
    "\n",
    "    return 0\n"
   ]
  },
  {
   "cell_type": "code",
   "execution_count": 17,
   "metadata": {},
   "outputs": [
    {
     "name": "stdout",
     "output_type": "stream",
     "text": [
      "The diamonds of 7\n",
      "The clubs of 5\n",
      "The diamonds of 6\n",
      "The clubs of 10\n",
      "The diamonds of 10\n",
      "The clubs of 10\n",
      "The spades of 8\n",
      "The spades of 2\n",
      "The spades of 5\n",
      "The clubs of 4\n",
      "The heart of 3\n",
      "The clubs of 6\n",
      "The heart of 10\n",
      "The heart of 4\n",
      "The clubs of 7\n",
      "The diamonds of 2\n",
      "The clubs of 11\n",
      "The heart of 8\n",
      "The clubs of dummy\n",
      "The spades of dummy\n",
      "The clubs of 9\n",
      "The diamonds of 10\n",
      "The heart of 9\n",
      "The spades of 3\n",
      "The heart of 11\n",
      "The heart of 2\n",
      "The spades of 10\n",
      "The spades of 9\n",
      "The heart of dummy\n",
      "The heart of 5\n",
      "The spades of 11\n",
      "The clubs of 3\n",
      "The clubs of 10\n",
      "The clubs of 8\n",
      "The spades of 6\n",
      "The heart of 10\n",
      "The diamonds of 10\n",
      "The diamonds of 4\n",
      "The spades of 7\n",
      "The clubs of 10\n",
      "The diamonds of 8\n",
      "The clubs of 2\n",
      "The spades of 4\n",
      "The heart of 7\n",
      "The diamonds of 3\n",
      "The diamonds of 5\n",
      "The diamonds of 10\n",
      "The heart of 10\n",
      "The diamonds of dummy\n",
      "The diamonds of 9\n",
      "The spades of 10\n",
      "The spades of 10\n",
      "The heart of 10\n",
      "The heart of 6\n",
      "The diamonds of 11\n",
      "The spades of 10\n"
     ]
    }
   ],
   "source": [
    "#Random shuffling the deck\n",
    "\n",
    "import itertools\n",
    "\n",
    "deck = list(itertools.product(suits, ranks))\n",
    "\n",
    "random.shuffle(deck)\n",
    "\n",
    "for suit, rank in deck:\n",
    "    print('The %s of %s' % (suit, rank))"
   ]
  },
  {
   "cell_type": "code",
   "execution_count": null,
   "metadata": {},
   "outputs": [],
   "source": []
  }
 ],
 "metadata": {
  "kernelspec": {
   "display_name": "Python 3",
   "language": "python",
   "name": "python3"
  },
  "language_info": {
   "codemirror_mode": {
    "name": "ipython",
    "version": 3
   },
   "file_extension": ".py",
   "mimetype": "text/x-python",
   "name": "python",
   "nbconvert_exporter": "python",
   "pygments_lexer": "ipython3",
   "version": "3.6.5"
  }
 },
 "nbformat": 4,
 "nbformat_minor": 2
}
